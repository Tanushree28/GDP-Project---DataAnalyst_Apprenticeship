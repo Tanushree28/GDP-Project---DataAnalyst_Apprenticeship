{
 "cells": [
  {
   "cell_type": "markdown",
   "id": "efdbfe73",
   "metadata": {},
   "source": [
    "# GDP Analysis using Currency Indicators (Current US$)"
   ]
  },
  {
   "cell_type": "markdown",
   "id": "cbaa34e9",
   "metadata": {},
   "source": [
    "This notebook consist of currency indicators such as Market Capitalization, Current GNI i.e. "
   ]
  },
  {
   "cell_type": "code",
   "execution_count": null,
   "id": "2332d59f",
   "metadata": {},
   "outputs": [],
   "source": [
    "imp"
   ]
  }
 ],
 "metadata": {
  "kernelspec": {
   "display_name": "Python 3",
   "language": "python",
   "name": "python3"
  },
  "language_info": {
   "codemirror_mode": {
    "name": "ipython",
    "version": 3
   },
   "file_extension": ".py",
   "mimetype": "text/x-python",
   "name": "python",
   "nbconvert_exporter": "python",
   "pygments_lexer": "ipython3",
   "version": "3.9.5"
  }
 },
 "nbformat": 4,
 "nbformat_minor": 5
}
