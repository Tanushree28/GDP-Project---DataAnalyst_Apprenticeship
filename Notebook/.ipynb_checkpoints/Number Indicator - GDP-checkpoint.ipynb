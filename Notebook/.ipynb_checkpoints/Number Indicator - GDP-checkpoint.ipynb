{
 "cells": [
  {
   "cell_type": "markdown",
   "id": "727a784f",
   "metadata": {},
   "source": [
    "# GDP Analysis using Number Indicators"
   ]
  },
  {
   "cell_type": "code",
   "execution_count": 1,
   "id": "688257b2",
   "metadata": {},
   "outputs": [],
   "source": [
    "import numpy as np #linear algebra\n",
    "import pandas as pd #data processing, CSV file I/O (e.g. pd.read_csv)\n",
    "import seaborn as sns\n",
    "from matplotlib import pyplot as plt"
   ]
  },
  {
   "cell_type": "code",
   "execution_count": 2,
   "id": "7bf14845",
   "metadata": {},
   "outputs": [],
   "source": [
    "per_df = pd.read_csv(r\"C:\\Users\\acer\\GDP FINAL PRO\\Data in CSV\\Number Indiactors.csv\", index_col=False)"
   ]
  },
  {
   "cell_type": "code",
   "execution_count": null,
   "id": "6095c194",
   "metadata": {},
   "outputs": [],
   "source": []
  }
 ],
 "metadata": {
  "kernelspec": {
   "display_name": "Python 3",
   "language": "python",
   "name": "python3"
  },
  "language_info": {
   "codemirror_mode": {
    "name": "ipython",
    "version": 3
   },
   "file_extension": ".py",
   "mimetype": "text/x-python",
   "name": "python",
   "nbconvert_exporter": "python",
   "pygments_lexer": "ipython3",
   "version": "3.9.5"
  }
 },
 "nbformat": 4,
 "nbformat_minor": 5
}
