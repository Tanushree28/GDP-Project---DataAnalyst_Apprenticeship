{
 "cells": [
  {
   "cell_type": "markdown",
   "id": "efdbfe73",
   "metadata": {},
   "source": [
    "# GDP Analysis using Currency Indicators ( In Current US$)"
   ]
  },
  {
   "cell_type": "markdown",
   "id": "581dee57",
   "metadata": {},
   "source": [
    "This notebook consist of currency indicators such as Market Capitalization, Current GNI (Gross national product), Export of goods"
   ]
  },
  {
   "cell_type": "code",
   "execution_count": null,
   "id": "32d83143",
   "metadata": {},
   "outputs": [],
   "source": [
    "import numpy as np #linear algebra\n",
    "import pandas as pd #data processing, CSV file I/O (e.g. pd.read_csv)\n",
    "import seaborn as sns\n",
    "from matplotlib import pyplot as plt"
   ]
  },
  {
   "cell_type": "code",
   "execution_count": null,
   "id": "681a3e02",
   "metadata": {},
   "outputs": [],
   "source": [
    "num_df = pd.read_csv(r\"C:\\Users\\acer\\GDP FINAL PRO\\Data in CSV\\Number Indiactors.csv\", index_col=False)"
   ]
  },
  {
   "cell_type": "code",
   "execution_count": null,
   "id": "09428781",
   "metadata": {},
   "outputs": [],
   "source": [
    "num_df.head(10)"
   ]
  },
  {
   "cell_type": "code",
   "execution_count": null,
   "id": "a568e260",
   "metadata": {},
   "outputs": [],
   "source": [
    "cur_df.tail()"
   ]
  },
  {
   "cell_type": "code",
   "execution_count": null,
   "id": "006c832f",
   "metadata": {},
   "outputs": [],
   "source": [
    "cur_df.shape"
   ]
  },
  {
   "cell_type": "code",
   "execution_count": null,
   "id": "3f394792",
   "metadata": {},
   "outputs": [],
   "source": [
    "cur_df.columns"
   ]
  },
  {
   "cell_type": "code",
   "execution_count": null,
   "id": "cdb5d5dc",
   "metadata": {},
   "outputs": [],
   "source": [
    "cur_df['Country Name'].unique"
   ]
  },
  {
   "cell_type": "raw",
   "id": "c2d9a926",
   "metadata": {},
   "source": [
    "1. GDP (current US$): \n",
    "   - GDP at purchaser's prices is the sum of gross value added by all resident producers in the economy plus any product taxes and minus any subsidies not included in the value of the products. \n",
    "   - It is calculated without making deductions for depreciation of fabricated assets or for depletion and degradation of natural resources. Data are in current U.S. dollars. \n",
    "   -Dollar figures for GDP are converted from domestic currencies using single year official exchange rates. For a few countries where the official exchange rate does not reflect the rate effectively applied to actual foreign exchange transactions, an alternative conversion factor is used.\n",
    "   \n",
    "2. Exports of goods and services\n",
    "   - Exports of goods and services represent the value of all goods and other market services provided to the rest of the world. \n",
    "   - They include the value of merchandise, freight, insurance, transport, travel, royalties, license fees, and other services, such as communication, construction, financial, information, business, personal, and government services. \n",
    "   - They exclude compensation of employees and investment income (formerly called factor services) and transfer payments. Data are in current U.S. dollars.\n",
    "   \n",
    "3. GDP per capita\n",
    "   - GDP per capita is gross domestic product divided by midyear population. GDP is the sum of gross value added by all resident producers in the economy plus any product taxes and minus any subsidies not included in the value of the products.    - It is calculated without making deductions for depreciation of fabricated assets or for depletion and degradation of natural resources. Data are in current U.S. dollars.\n",
    "\n",
    "\n",
    "4. GNI (current US$)\n",
    "\n",
    "\n",
    "5. Gross domestic savings (current US$)\n",
    "\n",
    "\n",
    "6. Market capitalization of listed domestic companies (current US$)\n",
    "\n",
    "\n",
    "7. Total reserves (includes gold, current US$)\n",
    "\n",
    "\n",
    "8. Present value of external debt (current US$)\n",
    "\n",
    "\n",
    "9. GDP growth (annual %)\n",
    "\n"
   ]
  },
  {
   "cell_type": "code",
   "execution_count": null,
   "id": "ac7a3f93",
   "metadata": {},
   "outputs": [],
   "source": [
    "print('number of missing data:')\n",
    "print(cur_df.isnull().sum())\n",
    "cur_df.describe(include='all')"
   ]
  },
  {
   "cell_type": "markdown",
   "id": "2e6364e0",
   "metadata": {},
   "source": [
    "### Data exploration\n",
    "\n",
    "Correlation heatmap show the correlation between all numericall columns"
   ]
  },
  {
   "cell_type": "code",
   "execution_count": null,
   "id": "623f54c0",
   "metadata": {},
   "outputs": [],
   "source": [
    "plt.figure(figsize=(16,12))\n",
    "sns.heatmap(data=cur_df.iloc[:,2:].corr(),annot=True,fmt='.2f',cmap='coolwarm')\n",
    "plt.show()"
   ]
  },
  {
   "cell_type": "markdown",
   "id": "d1aefe3b",
   "metadata": {},
   "source": [
    "#### top 20 countries with hioghest GDP growth"
   ]
  },
  {
   "cell_type": "code",
   "execution_count": null,
   "id": "455b5901",
   "metadata": {},
   "outputs": [],
   "source": [
    "fig, ax = plt.subplots(figsize=(16,6))\n",
    "top_gdp_countries = cur_df.sort_values('GDP (current US$) [NY.GDP.MKTP.CD]',ascending=False).head(20)\n",
    "mean = pd.DataFrame({'Country Name':['World mean'], 'GDP (current US$) [NY.GDP.MKTP.CD]':[cur_df['GDP (current US$) [NY.GDP.MKTP.CD]'].mean()]})\n",
    "gdps = pd.concat([top_gdp_countries[['Country Name','GDP (current US$) [NY.GDP.MKTP.CD]']],mean],ignore_index=True)\n",
    "sns.barplot(x='Country Name', y='GDP (current US$) [NY.GDP.MKTP.CD]', data=gdps, palette='Set1')\n",
    "ax.set_xlabel(ax.get_xlabel(), labelpad=15)\n",
    "ax.set_ylabel(ax.get_ylabel(), labelpad=30)\n",
    "ax.xaxis.label.set_fontsize(16)\n",
    "ax.yaxis.label.set_fontsize(16)\n",
    "plt.xticks(rotation=90)\n",
    "plt.show()"
   ]
  },
  {
   "cell_type": "code",
   "execution_count": null,
   "id": "7be47773",
   "metadata": {},
   "outputs": [],
   "source": [
    "# fig, axes = plt.subplots(nrows=3, ncols=3, figsize=(20,20))\n",
    "# plt.subplots_adjust(hspace=0.4)\n",
    "\n",
    "# corr_to_gdp = pd.Series(dtype=str)\n",
    "# for col in cur_df.columns.values[2:]:\n",
    "#     if ((col!='GDP (current US$) [NY.GDP.MKTP.CD]')&(col!='Exports of goods and services (current US$) [NE.EXP.GNFS.CD]')):\n",
    "#         corr_to_gdp[col] = cur_df['GDP (current US$) [NY.GDP.MKTP.CD]'].corr(cur_df[col])\n",
    "# abs_corr_to_gdp = corr_to_gdp.abs().sort_values(ascending=False)\n",
    "# corr_to_gdp = corr_to_gdp.loc[abs_corr_to_gdp.index]\n",
    "\n",
    "# for i in range(3):\n",
    "#     for j in range(3):\n",
    "#         sns.regplot(x=corr_to_gdp.index.values[i*3+j], y='GDP (current US$) [NY.GDP.MKTP.CD]', data=cur_df,\n",
    "#                    ax=axes[i,j], fit_reg=False, marker='.')\n",
    "#         title = 'correlation='+str(corr_to_gdp[i*3+j])\n",
    "#         axes[i,j].set_title(title)\n",
    "# axes[1,2].set_xlim(0,102)\n",
    "# plt.show()"
   ]
  },
  {
   "cell_type": "markdown",
   "id": "1ed38d92",
   "metadata": {},
   "source": [
    "### Countries with Market capitalization of listed domestic companies and low GDP per capita\n",
    "\n",
    "Some features, like Exports of goods and services, are related to the average GDP more linearly, while others ano not. For example, high market capitalization usually means low GDP in US$, but average GDP in low market capitalization of listed domestic countries can vary a lot."
   ]
  },
  {
   "cell_type": "code",
   "execution_count": null,
   "id": "2b72f683",
   "metadata": {},
   "outputs": [],
   "source": [
    "cur_df.loc[(cur_df['Market capitalization of listed domestic companies (current US$) [CM.MKT.LCAP.CD]']<14) & (cur_df['GDP per capita (current US$) [NY.GDP.PCAP.CD]'] < 10000)]"
   ]
  },
  {
   "cell_type": "markdown",
   "id": "91335854",
   "metadata": {},
   "source": [
    "### Data Modeling"
   ]
  },
  {
   "cell_type": "code",
   "execution_count": null,
   "id": "17f6e833",
   "metadata": {},
   "outputs": [],
   "source": [
    "cur_df.head(10)"
   ]
  },
  {
   "cell_type": "markdown",
   "id": "95ca889c",
   "metadata": {},
   "source": [
    "label encode the categorical features 'Country Name', and while just use all features given in the dataset without further enginerring."
   ]
  },
  {
   "cell_type": "code",
   "execution_count": null,
   "id": "1c685afa",
   "metadata": {},
   "outputs": [],
   "source": [
    "from sklearn.preprocessing import LabelEncoder\n",
    "from sklearn.model_selection import train_test_split\n",
    "from sklearn.linear_model import LinearRegression\n",
    "from sklearn.ensemble import RandomForestRegressor\n",
    "from sklearn.metrics import mean_squared_error, mean_squared_log_error"
   ]
  },
  {
   "cell_type": "code",
   "execution_count": null,
   "id": "688f9f87",
   "metadata": {},
   "outputs": [],
   "source": [
    "LE = LabelEncoder()\n",
    "cur_df['Country Label'] = LE.fit_transform(cur_df['Country Name'])\n",
    "cur_df.head(10)"
   ]
  },
  {
   "cell_type": "code",
   "execution_count": null,
   "id": "838dbcb1",
   "metadata": {},
   "outputs": [],
   "source": [
    "cur_df['Country Label'].unique"
   ]
  },
  {
   "cell_type": "code",
   "execution_count": null,
   "id": "263c92ca",
   "metadata": {},
   "outputs": [],
   "source": [
    "train, test = train_test_split(cur_df, test_size=0.3, shuffle=True)\n",
    "training_features = ['Exports of goods and services (current US$) [NE.EXP.GNFS.CD]', \n",
    "                     'Exports of goods and services (current US$) [NE.EXP.GNFS.CD]',\n",
    "                    'GDP per capita (current US$) [NY.GDP.PCAP.CD]',\n",
    "                    'GNI (current US$) [NY.GNP.MKTP.CD]',\n",
    "                    'Gross domestic savings (current US$) [NY.GDS.TOTL.CD]',\n",
    "                    'Market capitalization of listed domestic companies (current US$) [CM.MKT.LCAP.CD]',\n",
    "                    'Total reserves (includes gold, current US$) [FI.RES.TOTL.CD]',\n",
    "                    'Present value of external debt (current US$) [DT.DOD.PVLX.CD]',\n",
    "                    'Country Label']\n",
    "\n",
    "target = 'GDP (current US$) [NY.GDP.MKTP.CD]'\n",
    "\n",
    "train_X = train[training_features]\n",
    "train_Y = train[target]\n",
    "test_X = test[training_features]\n",
    "test_Y = test[target]"
   ]
  },
  {
   "cell_type": "code",
   "execution_count": null,
   "id": "606822db",
   "metadata": {},
   "outputs": [],
   "source": [
    "print(\"X train shape:\",train_X.shape)\n",
    "train_X"
   ]
  },
  {
   "cell_type": "code",
   "execution_count": null,
   "id": "d71e866f",
   "metadata": {},
   "outputs": [],
   "source": [
    "print(\"Y tarin shape:\",train_Y.shape)\n",
    "train_Y"
   ]
  },
  {
   "cell_type": "code",
   "execution_count": null,
   "id": "9343c135",
   "metadata": {},
   "outputs": [],
   "source": [
    "print(\"X test shape:\",test_X.shape)\n",
    "test_X"
   ]
  },
  {
   "cell_type": "code",
   "execution_count": null,
   "id": "d4c5e9be",
   "metadata": {},
   "outputs": [],
   "source": [
    "print(\"Y test shape:\",test_Y.shape)\n",
    "test_Y"
   ]
  },
  {
   "cell_type": "code",
   "execution_count": null,
   "id": "b8c4b1c4",
   "metadata": {},
   "outputs": [],
   "source": [
    "model = LinearRegression()\n",
    "model.fit(train_X, train_Y)"
   ]
  },
  {
   "cell_type": "code",
   "execution_count": null,
   "id": "bcf212e6",
   "metadata": {},
   "outputs": [],
   "source": [
    "# pip install statsmodels"
   ]
  },
  {
   "cell_type": "code",
   "execution_count": null,
   "id": "22904889",
   "metadata": {},
   "outputs": [],
   "source": [
    "train_pred_Y = model.predict(train_X)\n",
    "test_pred_Y = model.predict(test_X)\n",
    "train_pred_Y = pd.Series(train_pred_Y.clip(0, train_pred_Y.max()), index=train_Y.index)\n",
    "test_pred_Y = pd.Series(test_pred_Y.clip(0, test_pred_Y.max()), index=test_Y.index)\n",
    "\n",
    "rmse_train = np.sqrt(mean_squared_error(train_pred_Y, train_Y))\n",
    "msle_train = mean_squared_log_error(train_pred_Y, train_Y)\n",
    "rmse_test = np.sqrt(mean_squared_error(test_pred_Y, test_Y))\n",
    "msle_test = mean_squared_log_error(test_pred_Y, test_Y)\n",
    "\n",
    "print('rmse_train:',rmse_train,'msle_train:',msle_train)\n",
    "print('rmse_test:',rmse_test,'msle_test:',msle_test)"
   ]
  },
  {
   "cell_type": "code",
   "execution_count": null,
   "id": "09734085",
   "metadata": {},
   "outputs": [],
   "source": [
    "from sklearn.metrics import accuracy_score, precision_score, recall_score, f1_score, confusion_matrix, plot_confusion_matrix, roc_curve\n",
    "from sklearn.metrics import explained_variance_score\n",
    "from sklearn import metrics\n",
    "\n",
    "# R squared value\n",
    "r_square = metrics.explained_variance_score(test_Y, test_pred_Y)\n",
    "\n",
    "# printing evaluation metrics up to 4th decimal place\n",
    "print('Testing Metrics for Linear Regression')\n",
    "print('R Square:', r_square*100,'%')"
   ]
  },
  {
   "cell_type": "markdown",
   "id": "497e36fe",
   "metadata": {},
   "source": [
    "### Conclusion\n",
    "\n",
    "The model presents very high values of the R-squared: 0.99 or 99.98%, which means that our regressors explain a 99.8% of the overall variability of the dependent variable."
   ]
  },
  {
   "cell_type": "markdown",
   "id": "72456e7b",
   "metadata": {},
   "source": [
    "### Checking Using Stat Model and Line of best fits\n",
    "\n",
    "We build the line of best fits with the GDP predicted by our model and the actual GDP. We see a strong alignment."
   ]
  },
  {
   "cell_type": "code",
   "execution_count": null,
   "id": "acbffd9e",
   "metadata": {},
   "outputs": [],
   "source": [
    "X = ['Exports of goods and services (current US$) [NE.EXP.GNFS.CD]', \n",
    "                     'Exports of goods and services (current US$) [NE.EXP.GNFS.CD]',\n",
    "                    'GDP per capita (current US$) [NY.GDP.PCAP.CD]',\n",
    "                    'GNI (current US$) [NY.GNP.MKTP.CD]',\n",
    "                    'Gross domestic savings (current US$) [NY.GDS.TOTL.CD]',\n",
    "                    'Market capitalization of listed domestic companies (current US$) [CM.MKT.LCAP.CD]',\n",
    "                    'Total reserves (includes gold, current US$) [FI.RES.TOTL.CD]',\n",
    "                    'Present value of external debt (current US$) [DT.DOD.PVLX.CD]',\n",
    "                    'Country Label']"
   ]
  },
  {
   "cell_type": "code",
   "execution_count": null,
   "id": "925ffb37",
   "metadata": {},
   "outputs": [],
   "source": [
    "# We create our matrix of regressors (independent variables)\n",
    "X=cur_df[X]\n",
    "\n",
    "# We create our dependant variable\n",
    "y=cur_df['GDP (current US$) [NY.GDP.MKTP.CD]']"
   ]
  },
  {
   "cell_type": "code",
   "execution_count": null,
   "id": "9cd81dc5",
   "metadata": {},
   "outputs": [],
   "source": [
    "# We create a linear regression object\n",
    "lm = LinearRegression()\n",
    "\n",
    "#fit model\n",
    "lm.fit(X,y)"
   ]
  },
  {
   "cell_type": "code",
   "execution_count": null,
   "id": "a7160fbf",
   "metadata": {},
   "outputs": [],
   "source": [
    "import statsmodels.formula.api as sm\n",
    "\n",
    "# From the stats models we built our linear model.\n",
    "model=lm.fit(X,y)\n",
    "\n",
    "result = sm.ols(formula=\"y ~ X\", data=cur_df).fit()\n",
    "print(result.summary())"
   ]
  },
  {
   "cell_type": "code",
   "execution_count": null,
   "id": "68101c57",
   "metadata": {},
   "outputs": [],
   "source": [
    "p=lm.predict(X)"
   ]
  },
  {
   "cell_type": "code",
   "execution_count": null,
   "id": "09a2097e",
   "metadata": {},
   "outputs": [],
   "source": [
    "plt.figure(num=3, figsize=(20, 10), dpi=90, facecolor='w', edgecolor='aqua')\n",
    "\n",
    "sns.regplot(y, p, data=cur_df, marker='*', scatter_kws={\"s\": 350})\n",
    "\n",
    "SIZE2= \n",
    "plt.rc('xtick', labelsize=SIZE2)    # fontsize of the tick X labels \n",
    "plt.rc('ytick', labelsize=SIZE2)    # fontsize of the tick Y labels\n",
    "\n",
    "\n",
    "plt.title('Predicted GDP vs Actual GDP', size=30)\n",
    "plt.xlabel('Actual value', size=26)\n",
    "plt.ylabel('Predicted value', size=26)\n",
    "plt.show()"
   ]
  },
  {
   "cell_type": "code",
   "execution_count": null,
   "id": "1c03c8bc",
   "metadata": {},
   "outputs": [],
   "source": [
    "Errors=(y-p)\n",
    "\n",
    "print(Errors)"
   ]
  },
  {
   "cell_type": "markdown",
   "id": "09f9357c",
   "metadata": {},
   "source": [
    "### Conclusion\n",
    "\n",
    "Strong multicollinearity between the regressors"
   ]
  },
  {
   "cell_type": "code",
   "execution_count": null,
   "id": "489866a4",
   "metadata": {},
   "outputs": [],
   "source": []
  }
 ],
 "metadata": {
  "kernelspec": {
   "display_name": "Python 3",
   "language": "python",
   "name": "python3"
  },
  "language_info": {
   "codemirror_mode": {
    "name": "ipython",
    "version": 3
   },
   "file_extension": ".py",
   "mimetype": "text/x-python",
   "name": "python",
   "nbconvert_exporter": "python",
   "pygments_lexer": "ipython3",
   "version": "3.9.5"
  }
 },
 "nbformat": 4,
 "nbformat_minor": 5
}
